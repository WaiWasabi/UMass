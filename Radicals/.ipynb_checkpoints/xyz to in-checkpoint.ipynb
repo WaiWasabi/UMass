{
 "cells": [
  {
   "cell_type": "code",
   "execution_count": 2,
   "id": "69c8f5f0",
   "metadata": {},
   "outputs": [],
   "source": [
    "import os\n",
    "import shutil\n",
    "from os.path import join\n",
    "from pathlib import Path"
   ]
  },
  {
   "cell_type": "code",
   "execution_count": 3,
   "id": "074b7bab",
   "metadata": {},
   "outputs": [],
   "source": [
    "xyz_origin = 'Data/Original'\n",
    "in_target = 'Data/Optimized Structures'\n",
    "\n",
    "for filename in os.listdir(xyz_origin):\n",
    "  name = filename.split('.')[0]\n",
    "  file_path = join(xyz_origin, filename)\n",
    "  \n",
    "  \n",
    "  Path(file_path).mkdir(parents=True, exist_ok=True)\n",
    "  \n",
    "  file = open(join(xyz_origin, filename), 'r')\n",
    "  target = open(join(in_target, name, name + '.in'), 'w')\n",
    "  file.close()\n",
    "  target.close()"
   ]
  },
  {
   "cell_type": "code",
   "execution_count": null,
   "id": "b7009af1",
   "metadata": {},
   "outputs": [],
   "source": []
  },
  {
   "cell_type": "code",
   "execution_count": null,
   "id": "052be878",
   "metadata": {},
   "outputs": [],
   "source": []
  }
 ],
 "metadata": {
  "kernelspec": {
   "display_name": "Python [conda env:umass] *",
   "language": "python",
   "name": "conda-env-umass-py"
  },
  "language_info": {
   "codemirror_mode": {
    "name": "ipython",
    "version": 3
   },
   "file_extension": ".py",
   "mimetype": "text/x-python",
   "name": "python",
   "nbconvert_exporter": "python",
   "pygments_lexer": "ipython3",
   "version": "3.8.10"
  }
 },
 "nbformat": 4,
 "nbformat_minor": 5
}
