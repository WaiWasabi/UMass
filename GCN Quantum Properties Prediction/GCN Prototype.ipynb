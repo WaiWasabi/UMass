{
 "cells": [
  {
   "cell_type": "markdown",
   "id": "7fabfb6a",
   "metadata": {},
   "source": [
    "# Import Dependencies, Data"
   ]
  },
  {
   "cell_type": "code",
   "execution_count": 1,
   "id": "69e36f5f",
   "metadata": {},
   "outputs": [],
   "source": [
    "import numpy as np\n",
    "import matplotlib.pyplot as plt\n",
    "import pandas as pd\n",
    "from pysmiles import read_smiles\n",
    "import networkx as nx\n",
    "from rdkit.Chem import AllChem\n",
    "import torch\n",
    "import scipy\n",
    "import rdkit\n",
    "import os\n",
    "import pickle"
   ]
  },
  {
   "cell_type": "code",
   "execution_count": 5,
   "id": "15139507",
   "metadata": {},
   "outputs": [],
   "source": [
    "dataframe = pd.read_csv('rev02.csv', delimiter=',')[['Chromophore', 'Emission max (nm)']].dropna()"
   ]
  },
  {
   "cell_type": "markdown",
   "id": "32dc007c",
   "metadata": {},
   "source": [
    "# Data Exploration"
   ]
  },
  {
   "cell_type": "code",
   "execution_count": 4,
   "id": "5e769953",
   "metadata": {},
   "outputs": [
    {
     "data": {
      "image/png": "[encoded data removed]",
      "text/plain": [
       "<PIL.PngImagePlugin.PngImageFile image mode=RGB size=300x300 at 0x1ADD8D064F0>"
      ]
     },
     "execution_count": 4,
     "metadata": {},
     "output_type": "execute_result"
    }
   ],
   "source": [
    "smiles_0 = dataframe['Chromophore'][0]\n",
    "mol_0 = rdkit.Chem.MolFromSmiles(smiles_0)\n",
    "rdkit.IPythonConsole.Draw.MolToImage(mol_0)"
   ]
  },
  {
   "cell_type": "code",
   "execution_count": 6,
   "id": "7fc12452",
   "metadata": {},
   "outputs": [
    {
     "data": {
      "image/png": "[encoded data removed]",
      "text/plain": [
       "<Figure size 432x288 with 1 Axes>"
      ]
     },
     "metadata": {
      "needs_background": "light"
     },
     "output_type": "display_data"
    }
   ],
   "source": [
    "plt.xticks([])\n",
    "plt.plot(dataframe['Emission max (nm)'])\n",
    "plt.show()"
   ]
  },
  {
   "cell_type": "markdown",
   "id": "ea441fac",
   "metadata": {},
   "source": [
    "# Preprocess Data"
   ]
  },
  {
   "cell_type": "markdown",
   "id": "ac914d48",
   "metadata": {},
   "source": [
    "## Define Constants"
   ]
  },
  {
   "cell_type": "code",
   "execution_count": 8,
   "id": "a6f7d1d1",
   "metadata": {},
   "outputs": [],
   "source": [
    "MAX_SIZE = 150\n",
    "atoms = ['C', 'N', 'O', 'F', 'S', 'B', 'Cl', 'Si', 'Br', 'P', 'I', 'Se', '[OOV]']"
   ]
  },
  {
   "cell_type": "markdown",
   "id": "f50b95b3",
   "metadata": {},
   "source": [
    "## TODO: \n",
    "\n",
    "* Process Data into proper format: \n",
    "\n",
    "### No Need to Re-Run When Finalized!"
   ]
  },
  {
   "cell_type": "code",
   "execution_count": 9,
   "id": "14c1e311",
   "metadata": {},
   "outputs": [],
   "source": [
    "def to_one_hot(atom): # generate one-hot encodings for an individual atom\n",
    "  if atom in atoms:\n",
    "    return [int(atom==valid) for valid in atoms]\n",
    "  else:\n",
    "    return [int('[OOV]'==valid) for valid in atoms]\n",
    "\n",
    "def sparsify(adj_matrix):\n",
    "  output = [[], []]\n",
    "  for row in range(adj_matrix.shape[0]):\n",
    "    for col in range(adj_matrix.shape[1]):\n",
    "      if adj_matrix[row, col] != 0:\n",
    "        output[0].append(row); output[1].append(col)\n",
    "  return torch.LongTensor(output)\n",
    "\n",
    "def pad_vec(vec_list, target):\n",
    "  np_arr = np.array(vec_list)\n",
    "  return np.append(np_arr, np.zeros([target-np_arr.shape[0], np_arr.shape[1]]), axis=0)\n",
    "\n",
    "def pad_adj(np_adj, target): # also converts to a sparse tensor\n",
    "  output = np.zeros([target, target])\n",
    "  output[:np_adj.shape[0], :np_adj.shape[1]] = np_adj\n",
    "  return sparsify(output)"
   ]
  },
  {
   "cell_type": "raw",
   "id": "0628ccef",
   "metadata": {},
   "source": [
    "import logging\n",
    "logging.getLogger('pysmiles').setLevel(logging.CRITICAL) # turns off warning spam for ignored stereochemistry in smiles string.\n",
    "\n",
    "mols = [] # list of objects\n",
    "\n",
    "for smiles in dataframe['Chromophore']:\n",
    "  try:\n",
    "    mols.append(read_smiles(smiles))\n",
    "  except:\n",
    "    mols.append(read_smiles(smiles.replace('se', 'Se')))\n",
    "    \n",
    "#adjs = [nx.adjacency_matrix(mol, weight='order').todense() for mol in mols]\n",
    "adjs = map(lambda x: nx.adjacency_matrix(x).todense(), mols)\n",
    "vecs = map(lambda x: [to_one_hot(enum[1]) for enum in x.nodes(data='element')], mols)\n",
    "data_dict = {'xs':[torch.tensor(pad_vec(vec, MAX_SIZE)) for vec in vecs],\n",
    "             'edge_indices':[pad_adj(adj, MAX_SIZE) for adj in adjs],\n",
    "             'edge_attribs': None,\n",
    "             'ys':[torch.tensor(y) for y in dataframe['Emission max (nm)']]}\n",
    "\n",
    "with open('data', 'wb') as file:\n",
    "  pickle.dump(data_dict, file, protocol=pickle.HIGHEST_PROTOCOL)"
   ]
  },
  {
   "cell_type": "markdown",
   "id": "69fe7461",
   "metadata": {},
   "source": [
    "# GCN Implementation\n",
    "Concept From: [DeepFindr Article][0]\n",
    "\n",
    "Other Documentation:\n",
    "1. [PyTorch Geometric GCN][1]\n",
    "2. [Kipf and Welling][2]\n",
    "\n",
    "This network incorporates the torch_geometric implementation of the Graph Convolutional Network outlined by Kipf and Welling to predict emission wavelength based on the SMILES representation of a chromophore.\n",
    "\n",
    "[0]: https://deepfindr.com/understanding-graph-neural-networks-part-3-3/ \"Title\"\n",
    "[1]: https://pytorch-geometric.readthedocs.io/en/latest/notes/create_gnn.html#implementing-the-gcn-layer \"Title\"\n",
    "[2]: https://arxiv.org/abs/1609.02907 \"Title\""
   ]
  },
  {
   "cell_type": "markdown",
   "id": "2166707b",
   "metadata": {},
   "source": [
    "## TODO/FIXME\n",
    "\n",
    "\n",
    "* Need to incorporate solvent data into network input; currently only using chromophore. :weary:\n",
    "* Currently discarding stereochemistry details. TODO: implement isomer details in edge_attribute matrix?\n",
    "* Current graph features are only one-hot encodings of the atoms; may be suboptimal for molecular representation.\n",
    "* Other Optimizations:\n",
    "    - Dropouts\n",
    "    - Better pooling layers\n",
    "    - Batch norm\n",
    "    - Hyperparameter tuning"
   ]
  },
  {
   "cell_type": "code",
   "execution_count": 10,
   "id": "6bb7831b",
   "metadata": {},
   "outputs": [],
   "source": [
    "from torch.nn import Linear\n",
    "import torch.nn.functional as F\n",
    "from torch_geometric.nn import GCNConv, TopKPooling, global_mean_pool as gap, global_max_pool as gmp"
   ]
  },
  {
   "cell_type": "code",
   "execution_count": 11,
   "id": "8bd4c4d1",
   "metadata": {},
   "outputs": [],
   "source": [
    "# NOTE: data-dependent parameters\n",
    "output_dim = 1\n",
    "input_shape = len(atoms)\n",
    "# NOTE: hyperparameters\n",
    "embedding_size = 64\n",
    "\n",
    "\n",
    "class GCN(torch.nn.Module):\n",
    "  def __init__(self):\n",
    "    super(GCN, self).__init__()\n",
    "    \n",
    "    self.conv0 = GCNConv(input_shape, embedding_size)\n",
    "    self.conv1 = GCNConv(embedding_size, embedding_size)\n",
    "    self.conv2 = GCNConv(embedding_size, embedding_size)\n",
    "    self.conv3 = GCNConv(embedding_size, embedding_size)\n",
    "    self.out = Linear(embedding_size*2, output_dim)\n",
    "  \n",
    "  def forward(self, x, edge_index, batch_index):\n",
    "    hidden = F.tanh(self.conv0(x, edge_index))\n",
    "    hidden = F.tanh(self.conv1(hidden, edge_index))\n",
    "    hidden = F.tanh(self.conv2(hidden, edge_index))\n",
    "    hidden = F.tanh(self.conv3(hidden, edge_index))\n",
    "    hidden = torch.cat([gmp(hidden, batch_index), gap(hidden, batch_index)], dim=1)\n",
    "    out = self.out(hidden)\n",
    "    return out, hidden"
   ]
  },
  {
   "cell_type": "code",
   "execution_count": 12,
   "id": "cac9468d",
   "metadata": {},
   "outputs": [
    {
     "name": "stdout",
     "output_type": "stream",
     "text": [
      "GCN(\n",
      "  (conv0): GCNConv(13, 64)\n",
      "  (conv1): GCNConv(64, 64)\n",
      "  (conv2): GCNConv(64, 64)\n",
      "  (conv3): GCNConv(64, 64)\n",
      "  (out): Linear(in_features=128, out_features=1, bias=True)\n",
      ")\n"
     ]
    }
   ],
   "source": [
    "model = GCN()\n",
    "print(model)"
   ]
  },
  {
   "cell_type": "markdown",
   "id": "f49c310e",
   "metadata": {},
   "source": [
    "# Model Training"
   ]
  },
  {
   "cell_type": "code",
   "execution_count": 13,
   "id": "5d6fd92d",
   "metadata": {},
   "outputs": [],
   "source": [
    "from torch_geometric.data import DataLoader, Data\n",
    "import warnings\n",
    "warnings.filterwarnings('ignore')\n",
    "\n",
    "with open('data', 'rb') as file:\n",
    "  data_dict = pickle.load(file)\n",
    "  \n",
    "data = [Data(x=vec, edge_index=adj, y=y) for vec, adj, y in zip(data_dict['xs'], data_dict['edge_indices'], data_dict['ys'])]\n",
    "  \n",
    "loss_fn = torch.nn.MSELoss()\n",
    "optimizer = torch.optim.Adam(model.parameters(), lr=0.001)\n",
    "\n",
    "device = torch.device('cuda:0' if torch.cuda.is_available() else 'cpu')\n",
    "model = model.to(device)\n",
    "\n",
    "data_size = len(data)\n",
    "BATCH_SIZE = 64\n",
    "loader = DataLoader(data[:int(data_size * 0.8)], batch_size=BATCH_SIZE, shuffle=True)\n",
    "test_loader = DataLoader(data[int(data_size * 0.8):], batch_size=BATCH_SIZE, shuffle=True)"
   ]
  },
  {
   "cell_type": "code",
   "execution_count": 14,
   "id": "ad9418f3",
   "metadata": {},
   "outputs": [],
   "source": [
    "def train_step(loader):\n",
    "  for batch in loader:\n",
    "    predictions = []\n",
    "    batch.to(device)\n",
    "    optimizer.zero_grad()\n",
    "    pred, embedding = model(batch.x.float(), batch.edge_index, batch.batch)\n",
    "    predictions.append(pred)\n",
    "    loss = torch.sqrt(loss_fn(pred, batch.y))\n",
    "    loss.backward(); optimizer.step()\n",
    "  return loss, embedding, predictions"
   ]
  },
  {
   "cell_type": "code",
   "execution_count": 15,
   "id": "0c7b7e20",
   "metadata": {},
   "outputs": [
    {
     "name": "stdout",
     "output_type": "stream",
     "text": [
      "Starting training...\n",
      "Epoch 0 | Train Loss 461.4333801269531\n",
      "Epoch 100 | Train Loss 97.39575958251953\n",
      "Epoch 200 | Train Loss 83.67020416259766\n",
      "Epoch 300 | Train Loss 96.89005279541016\n",
      "Epoch 400 | Train Loss 94.82485961914062\n",
      "Epoch 500 | Train Loss 81.7809829711914\n",
      "Epoch 600 | Train Loss 73.29894256591797\n",
      "Epoch 700 | Train Loss 102.99604797363281\n"
     ]
    }
   ],
   "source": [
    "print(\"Starting training...\")\n",
    "losses = []\n",
    "predictions = []\n",
    "for epoch in range(800):\n",
    "    loss, h, pred = train_step(loader)\n",
    "    losses.append(loss)\n",
    "    predictions.append(pred)\n",
    "    if epoch % 100 == 0:\n",
    "      print(f\"Epoch {epoch} | Train Loss {loss}\")"
   ]
  },
  {
   "cell_type": "code",
   "execution_count": 23,
   "id": "32b6385e",
   "metadata": {},
   "outputs": [
    {
     "data": {
      "text/plain": [
       "[<matplotlib.lines.Line2D at 0x1ad94cbf6d0>]"
      ]
     },
     "execution_count": 23,
     "metadata": {},
     "output_type": "execute_result"
    },
    {
     "data": {
      "image/png": "[encoded data removed]",
      "text/plain": [
       "<Figure size 432x288 with 1 Axes>"
      ]
     },
     "metadata": {
      "needs_background": "light"
     },
     "output_type": "display_data"
    }
   ],
   "source": [
    "losses_float = [float(loss.cpu().detach().numpy()) for loss in losses] \n",
    "loss_indices = [i for i,l in enumerate(losses_float)] \n",
    "plt.plot(loss_indices, losses_float)"
   ]
  },
  {
   "cell_type": "code",
   "execution_count": 24,
   "id": "1bfb9f06",
   "metadata": {},
   "outputs": [
    {
     "data": {
      "text/html": [
       "<div>\n",
       "<style scoped>\n",
       "    .dataframe tbody tr th:only-of-type {\n",
       "        vertical-align: middle;\n",
       "    }\n",
       "\n",
       "    .dataframe tbody tr th {\n",
       "        vertical-align: top;\n",
       "    }\n",
       "\n",
       "    .dataframe thead th {\n",
       "        text-align: right;\n",
       "    }\n",
       "</style>\n",
       "<table border=\"1\" class=\"dataframe\">\n",
       "  <thead>\n",
       "    <tr style=\"text-align: right;\">\n",
       "      <th></th>\n",
       "      <th>y_real</th>\n",
       "      <th>y_pred</th>\n",
       "    </tr>\n",
       "  </thead>\n",
       "  <tbody>\n",
       "    <tr>\n",
       "      <th>0</th>\n",
       "      <td>474.000000</td>\n",
       "      <td>[493.5452575683594]</td>\n",
       "    </tr>\n",
       "    <tr>\n",
       "      <th>1</th>\n",
       "      <td>419.000000</td>\n",
       "      <td>[493.5452575683594]</td>\n",
       "    </tr>\n",
       "    <tr>\n",
       "      <th>2</th>\n",
       "      <td>554.000000</td>\n",
       "      <td>[493.5452575683594]</td>\n",
       "    </tr>\n",
       "    <tr>\n",
       "      <th>3</th>\n",
       "      <td>520.000000</td>\n",
       "      <td>[493.5452575683594]</td>\n",
       "    </tr>\n",
       "    <tr>\n",
       "      <th>4</th>\n",
       "      <td>646.000000</td>\n",
       "      <td>[493.5452575683594]</td>\n",
       "    </tr>\n",
       "    <tr>\n",
       "      <th>...</th>\n",
       "      <td>...</td>\n",
       "      <td>...</td>\n",
       "    </tr>\n",
       "    <tr>\n",
       "      <th>59</th>\n",
       "      <td>541.000000</td>\n",
       "      <td>[493.5452575683594]</td>\n",
       "    </tr>\n",
       "    <tr>\n",
       "      <th>60</th>\n",
       "      <td>420.000000</td>\n",
       "      <td>[493.5452575683594]</td>\n",
       "    </tr>\n",
       "    <tr>\n",
       "      <th>61</th>\n",
       "      <td>441.000000</td>\n",
       "      <td>[493.5452575683594]</td>\n",
       "    </tr>\n",
       "    <tr>\n",
       "      <th>62</th>\n",
       "      <td>370.454559</td>\n",
       "      <td>[493.5452575683594]</td>\n",
       "    </tr>\n",
       "    <tr>\n",
       "      <th>63</th>\n",
       "      <td>430.000000</td>\n",
       "      <td>[493.5452575683594]</td>\n",
       "    </tr>\n",
       "  </tbody>\n",
       "</table>\n",
       "<p>64 rows × 2 columns</p>\n",
       "</div>"
      ],
      "text/plain": [
       "        y_real               y_pred\n",
       "0   474.000000  [493.5452575683594]\n",
       "1   419.000000  [493.5452575683594]\n",
       "2   554.000000  [493.5452575683594]\n",
       "3   520.000000  [493.5452575683594]\n",
       "4   646.000000  [493.5452575683594]\n",
       "..         ...                  ...\n",
       "59  541.000000  [493.5452575683594]\n",
       "60  420.000000  [493.5452575683594]\n",
       "61  441.000000  [493.5452575683594]\n",
       "62  370.454559  [493.5452575683594]\n",
       "63  430.000000  [493.5452575683594]\n",
       "\n",
       "[64 rows x 2 columns]"
      ]
     },
     "execution_count": 24,
     "metadata": {},
     "output_type": "execute_result"
    }
   ],
   "source": [
    "import pandas as pd \n",
    "\n",
    "# Analyze the results for one batch\n",
    "test_batch = next(iter(test_loader))\n",
    "with torch.no_grad():\n",
    "    test_batch.to(device)\n",
    "    pred, embed = model(test_batch.x.float(), test_batch.edge_index, test_batch.batch) \n",
    "    df = pd.DataFrame()\n",
    "    df[\"y_real\"] = test_batch.y.tolist()\n",
    "    df[\"y_pred\"] = pred.tolist()\n",
    "df[\"y_real\"] = df[\"y_real\"].apply(lambda row: row)\n",
    "df[\"y_pred\"] = df[\"y_pred\"].apply(lambda row: row)\n",
    "df"
   ]
  },
  {
   "cell_type": "code",
   "execution_count": 25,
   "id": "cf819699",
   "metadata": {},
   "outputs": [
    {
     "name": "stdout",
     "output_type": "stream",
     "text": [
      "torch.Size([2, 68])\n"
     ]
    }
   ],
   "source": [
    "import rdkit\n",
    "from torch_geometric.datasets import MoleculeNet\n",
    " \n",
    "# Load the ESOL dataset\n",
    "data_ = MoleculeNet(root=\".\", name=\"ESOL\")\n",
    "\n",
    "test = data_[0].edge_index\n",
    "print(test.shape)"
   ]
  },
  {
   "cell_type": "code",
   "execution_count": 27,
   "id": "a0d241a8",
   "metadata": {},
   "outputs": [
    {
     "name": "stdout",
     "output_type": "stream",
     "text": [
      "tensor([[-0.8500],\n",
      "        [-3.3240],\n",
      "        [-3.9270],\n",
      "        [-3.3800],\n",
      "        [-2.6170],\n",
      "        [-4.0700],\n",
      "        [-1.3400],\n",
      "        [ 0.3200],\n",
      "        [-5.1400],\n",
      "        [-0.9850],\n",
      "        [ 0.5400],\n",
      "        [-4.7550],\n",
      "        [-0.4100],\n",
      "        [-3.0400],\n",
      "        [-2.3100],\n",
      "        [-3.1500],\n",
      "        [-5.8390],\n",
      "        [-1.9500],\n",
      "        [ 1.0200],\n",
      "        [-1.7400],\n",
      "        [-6.4900],\n",
      "        [-0.4660],\n",
      "        [-4.8000],\n",
      "        [-3.2100],\n",
      "        [-6.1400],\n",
      "        [-1.8000],\n",
      "        [-2.9800],\n",
      "        [-1.9200],\n",
      "        [-0.9900],\n",
      "        [-1.2400],\n",
      "        [-5.8860],\n",
      "        [-0.4100],\n",
      "        [-4.8800],\n",
      "        [-1.9900],\n",
      "        [-0.3640],\n",
      "        [-2.0300],\n",
      "        [ 0.8100],\n",
      "        [-4.4320],\n",
      "        [-5.6700],\n",
      "        [-0.6200],\n",
      "        [-3.3800],\n",
      "        [-4.1700],\n",
      "        [-2.0160],\n",
      "        [-3.1000],\n",
      "        [-5.7200],\n",
      "        [-6.0000],\n",
      "        [-0.4900],\n",
      "        [-2.5300],\n",
      "        [-2.3220],\n",
      "        [-2.2800],\n",
      "        [-1.0900],\n",
      "        [-3.0500],\n",
      "        [-1.6300],\n",
      "        [-1.0400],\n",
      "        [-1.7700],\n",
      "        [-6.0800],\n",
      "        [-7.6600],\n",
      "        [-7.2780],\n",
      "        [-1.5200],\n",
      "        [-3.0300],\n",
      "        [-2.3600],\n",
      "        [-1.9900],\n",
      "        [-1.1600],\n",
      "        [-4.1500]])\n"
     ]
    }
   ],
   "source": [
    "loadme = DataLoader(data_, batch_size=BATCH_SIZE, shuffle=True)\n",
    "\n",
    "for batch in loadme:\n",
    "  print(batch.y)\n",
    "  break"
   ]
  },
  {
   "cell_type": "code",
   "execution_count": null,
   "id": "88d60e9c",
   "metadata": {},
   "outputs": [],
   "source": []
  }
 ],
 "metadata": {
  "kernelspec": {
   "display_name": "Python [conda env:umass] *",
   "language": "python",
   "name": "conda-env-umass-py"
  },
  "language_info": {
   "codemirror_mode": {
    "name": "ipython",
    "version": 3
   },
   "file_extension": ".py",
   "mimetype": "text/x-python",
   "name": "python",
   "nbconvert_exporter": "python",
   "pygments_lexer": "ipython3",
   "version": "3.8.10"
  }
 },
 "nbformat": 4,
 "nbformat_minor": 5
}
